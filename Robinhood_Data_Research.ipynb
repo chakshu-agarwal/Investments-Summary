{
  "nbformat": 4,
  "nbformat_minor": 0,
  "metadata": {
    "colab": {
      "name": "Robinhood Data Research.ipynb",
      "provenance": [],
      "authorship_tag": "ABX9TyPEjjmuYRL77MEW6yEX1LBD",
      "include_colab_link": true
    },
    "kernelspec": {
      "name": "python3",
      "display_name": "Python 3"
    }
  },
  "cells": [
    {
      "cell_type": "markdown",
      "metadata": {
        "id": "view-in-github",
        "colab_type": "text"
      },
      "source": [
        "<a href=\"https://colab.research.google.com/github/chakshu-agarwal/Investments-Summary/blob/main/Robinhood_Data_Research.ipynb\" target=\"_parent\"><img src=\"https://colab.research.google.com/assets/colab-badge.svg\" alt=\"Open In Colab\"/></a>"
      ]
    },
    {
      "cell_type": "code",
      "metadata": {
        "id": "ykgsT2z6WIrh"
      },
      "source": [
        "# pip install pandasql\n",
        "# pip install robin_stocks"
      ],
      "execution_count": null,
      "outputs": []
    },
    {
      "cell_type": "code",
      "metadata": {
        "id": "eS4lIkePWSmA"
      },
      "source": [
        "import robin_stocks as r\n",
        "from robin_stocks.globals import LOGGED_IN, SESSION, OUTPUT\n",
        "import pyotp\n",
        "import requests\n",
        "import json\n",
        "import pandas as pd\n",
        "import pandasql as ps\n",
        "from datetime import datetime"
      ],
      "execution_count": 132,
      "outputs": []
    },
    {
      "cell_type": "code",
      "metadata": {
        "id": "xe0m_T3OWSou"
      },
      "source": [
        "totp  = pyotp.TOTP(\"[MFA Key]\").now()\n",
        "print(\"Current OTP:\", totp)\n",
        "login = r.login('[Email]','[Password]', mfa_code=totp)"
      ],
      "execution_count": null,
      "outputs": []
    },
    {
      "cell_type": "code",
      "metadata": {
        "id": "t-sYbUkuYmjG"
      },
      "source": [
        "\"\"\"Takes a stock instrument url and returns the ticker symbol associated with the stock.\n",
        "    :param id: A string that represents the stocks instrument url.\n",
        "    :type id: str\n",
        "    :returns:  The symbol.\n",
        "    \"\"\"\n",
        "symbol_for_stock = lambda url: requests.get(url).json()['symbol']"
      ],
      "execution_count": null,
      "outputs": []
    },
    {
      "cell_type": "code",
      "metadata": {
        "id": "dEPTSAO6Xw4z"
      },
      "source": [
        "# Raw dataset with all filled orders\n",
        "\n",
        "filled_orders = []\n",
        "filled_orders.append(['symbol','latest_price', 'order_type','quantity','unit_price','total_price','fees','timestamp'])\n",
        "for order in raw:\n",
        "  if order['state'] == 'filled':\n",
        "    order_details = []\n",
        "    order_details.append(symbol_for_stock(order['instrument']))\n",
        "    try:\n",
        "      price = r.stocks.get_latest_price(symbol_for_stock(order['instrument']), includeExtendedHours=True)[0]\n",
        "    except:\n",
        "      price = '0'\n",
        "    order_details.append(price)\n",
        "    order_details.append(order['side'])\n",
        "    order_details.append(order['cumulative_quantity'])\n",
        "    order_details.append(order['average_price'])\n",
        "    order_details.append(order['executed_notional']['amount'])\n",
        "    order_details.append(order['fees'])\n",
        "    order_details.append(order['updated_at'])\n",
        "    filled_orders.append(order_details)\n",
        "\n",
        "# Converting to dataframe for analysis\n",
        "order_data = pd.DataFrame(filled_orders[1:], columns=filled_orders[0])\n",
        "order_data"
      ],
      "execution_count": null,
      "outputs": []
    },
    {
      "cell_type": "code",
      "metadata": {
        "id": "XLXUSlEDdVOO"
      },
      "source": [
        "# Summary Information on all filled orders by Ticker Symbol\n",
        "\n",
        "query = \"WITH summary AS ( \\\n",
        "  SELECT symbol,\\\n",
        "  CAST(SUM(CASE WHEN order_type = 'buy' THEN quantity END) AS FLOAT) as buy_quantity,\\\n",
        "  CAST(SUM(CASE WHEN order_type = 'buy' THEN total_price END)/SUM(CASE WHEN order_type = 'buy' THEN quantity END) AS FLOAT) as avg_buy_price,\\\n",
        "  CAST(SUM(CASE WHEN order_type = 'buy' THEN total_price END) AS FLOAT) as money_out,\\\n",
        "  CAST(SUM(CASE WHEN order_type = 'sell' THEN quantity END) AS FLOAT) as sell_quantity,\\\n",
        "  CAST(SUM(CASE WHEN order_type = 'sell' THEN total_price END)/SUM(CASE WHEN order_type = 'sell' THEN quantity END) AS FLOAT) as avg_sell_price,\\\n",
        "  CAST(SUM(CASE WHEN order_type = 'sell' THEN total_price END) AS FLOAT) as money_in,\\\n",
        "  CAST(MAX(latest_price) AS FLOAT) as latest_price,\\\n",
        "  MAX(timestamp) as last_txn_time \\\n",
        "FROM order_data \\\n",
        "GROUP BY symbol \\\n",
        ") \\\n",
        "SELECT \\\n",
        "  *,\\\n",
        "  CAST(money_in - (sell_quantity*avg_buy_price) AS DECIMAL) AS realized_gains_loss,\\\n",
        "  CASE \\\n",
        "    WHEN buy_quantity != sell_quantity AND sell_quantity IS NOT NULL AND latest_price IS NOT NULL \\\n",
        "      THEN ((buy_quantity-sell_quantity)*latest_price) - ((buy_quantity-sell_quantity)*avg_buy_price) \\\n",
        "    WHEN sell_quantity IS NULL AND latest_price != 'None' \\\n",
        "      THEN (buy_quantity*latest_price) - (buy_quantity*avg_buy_price) \\\n",
        "    WHEN sell_quantity IS NULL AND latest_price IS NULL \\\n",
        "      THEN 0 - (buy_quantity*avg_buy_price) \\\n",
        "    ELSE 0 \\\n",
        "  END AS unrealized_gains_loss \\\n",
        "FROM summary;\"\n",
        "summary_all_orders =  ps.sqldf(query)\n",
        "pd.set_option('display.float_format', lambda x: '%.3f' % x)\n",
        "summary_all_orders"
      ],
      "execution_count": null,
      "outputs": []
    },
    {
      "cell_type": "code",
      "metadata": {
        "id": "mrT43jUvp4UI"
      },
      "source": [
        "# Summary Key Results\n",
        "print('Money Invested: ', summary_all_orders['money_out'].sum())\n",
        "print('Money Return: ', summary_all_orders['money_in'].sum())\n",
        "print('Realized Gain/Loss: ', summary_all_orders['realized_gains_loss'].sum())\n",
        "print('UnRealized Gain/Loss: ', summary_all_orders['unrealized_gains_loss'].sum())\n"
      ],
      "execution_count": null,
      "outputs": []
    },
    {
      "cell_type": "code",
      "metadata": {
        "id": "crz6jiZUdVQ0"
      },
      "source": [
        "# YTD calculation\n",
        "current_year = \"\\\"\" + str(datetime.now().year) +\"\\\"\"\n",
        "query = \"WITH dataset AS (SELECT A.symbol,\\\n",
        "  A.buy_quantity,\\\n",
        "  A.avg_buy_price,\\\n",
        "  A.money_out,\\\n",
        "  B.sell_quantity,\\\n",
        "  B.avg_sell_price,\\\n",
        "  B.money_in,\\\n",
        "  B.sell_txn_year \\\n",
        "FROM (SELECT symbol,\\\n",
        "    SUM(CASE WHEN order_type = 'buy' THEN quantity END) as buy_quantity,\\\n",
        "    SUM(CASE WHEN order_type = 'buy' THEN total_price END)/SUM(CASE WHEN order_type = 'buy' THEN quantity END) as avg_buy_price,\\\n",
        "    SUM(CASE WHEN order_type = 'buy' THEN total_price END) as money_out \\\n",
        "  FROM order_data WHERE order_type = 'buy' GROUP BY symbol) A \\\n",
        "LEFT JOIN (SELECT symbol,\\\n",
        "    SUM(CASE WHEN order_type = 'sell' THEN quantity END) as sell_quantity,\\\n",
        "    SUM(CASE WHEN order_type = 'sell' THEN total_price END)/SUM(CASE WHEN order_type = 'sell' THEN quantity END) as avg_sell_price,\\\n",
        "    SUM(CASE WHEN order_type = 'sell' THEN total_price END) as money_in,\\\n",
        "    strftime('%Y',timestamp) as sell_txn_year \\\n",
        "  FROM order_data WHERE order_type = 'sell' AND strftime('%Y',timestamp) == {} GROUP BY symbol) B \\\n",
        "ON A.symbol = B.symbol) \\\n",
        "SELECT symbol,\\\n",
        "  (sell_quantity*avg_buy_price) as money_out,\\\n",
        "  money_in,\\\n",
        "  (money_in)-(sell_quantity*avg_buy_price) as realized_gains_loss \\\n",
        "FROM dataset \\\n",
        "WHERE sell_quantity IS NOT NULL \\\n",
        "GROUP BY symbol;\".format(current_year)\n",
        "\n",
        "ytd_data =  ps.sqldf(query)\n",
        "pd.set_option('display.float_format', lambda x: '%.3f' % x)\n",
        "ytd_data"
      ],
      "execution_count": null,
      "outputs": []
    },
    {
      "cell_type": "code",
      "metadata": {
        "id": "D5X9RjygdVTf",
        "colab": {
          "base_uri": "https://localhost:8080/"
        },
        "outputId": "948dc0d0-8324-426a-d344-5d9c907f947a"
      },
      "source": [
        "# Summary Key Results\n",
        "print('Realized Gain/Loss: ', ytd_data['realized_gains_loss'].sum())"
      ],
      "execution_count": 181,
      "outputs": [
        {
          "output_type": "stream",
          "text": [
            "Realized Gain/Loss:  -1167.4956650246295\n"
          ],
          "name": "stdout"
        }
      ]
    },
    {
      "cell_type": "code",
      "metadata": {
        "id": "UKSVwOksdVYx"
      },
      "source": [
        "# Next Steps:\n",
        "\n",
        "# 1. Account for stock splits and acquisitions in stock price\n",
        "# 2. Account for repurchase of same stock at a later date\n",
        "# 3. Tag investments by category (long terms - growth stocks, etf, short term - gambling money) to identify future investment split\n",
        "# 4. Add other accounts (schwab)\n",
        "# 5. Add UI layer"
      ],
      "execution_count": null,
      "outputs": []
    }
  ]
}