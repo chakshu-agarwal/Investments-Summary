{
  "nbformat": 4,
  "nbformat_minor": 0,
  "metadata": {
    "colab": {
      "name": "Robinhood Data Research.ipynb",
      "provenance": [],
      "collapsed_sections": [],
      "authorship_tag": "ABX9TyPpa0fRB6X3iBXDGWBhJj1b",
      "include_colab_link": true
    },
    "kernelspec": {
      "name": "python3",
      "display_name": "Python 3"
    }
  },
  "cells": [
    {
      "cell_type": "markdown",
      "metadata": {
        "id": "view-in-github",
        "colab_type": "text"
      },
      "source": [
        "<a href=\"https://colab.research.google.com/github/chakshu-agarwal/Investments-Summary/blob/main/Robinhood_Data_Research.ipynb\" target=\"_parent\"><img src=\"https://colab.research.google.com/assets/colab-badge.svg\" alt=\"Open In Colab\"/></a>"
      ]
    },
    {
      "cell_type": "code",
      "metadata": {
        "id": "ykgsT2z6WIrh"
      },
      "source": [
        "pip install pandasql"
      ],
      "execution_count": null,
      "outputs": []
    },
    {
      "cell_type": "code",
      "metadata": {
        "id": "ZxrXtpOjxNvz"
      },
      "source": [
        "pip install robin_stocks"
      ],
      "execution_count": null,
      "outputs": []
    },
    {
      "cell_type": "code",
      "metadata": {
        "id": "eS4lIkePWSmA"
      },
      "source": [
        "import robin_stocks as r\n",
        "from robin_stocks.globals import LOGGED_IN, SESSION, OUTPUT\n",
        "import pyotp\n",
        "import requests\n",
        "import json\n",
        "import pandas as pd\n",
        "import pandasql as ps\n",
        "from datetime import datetime\n",
        "from google.colab import files\n",
        "\n",
        "# authenticate google drive access\n",
        "from google.colab import auth\n",
        "auth.authenticate_user()\n",
        "import gspread\n",
        "from oauth2client.client import GoogleCredentials as GC\n",
        "gc = gspread.authorize(GC.get_application_default())\n",
        "from gspread_dataframe import set_with_dataframe"
      ],
      "execution_count": 4,
      "outputs": []
    },
    {
      "cell_type": "code",
      "metadata": {
        "id": "xe0m_T3OWSou"
      },
      "source": [
        "# Replace MFA Key, Email and Password with the ones associated with your Robinhood account.\n",
        "\n",
        "login = r.login('Email','Password') \n",
        "\n",
        "# Use the following if you have 2FA enabled on your account. Uncomment the code below\n",
        "# totp  = pyotp.TOTP(\"[MFA Key]\").now()\n",
        "# login = r.login('[Email]','[Password]', mfa_code=totp)"
      ],
      "execution_count": null,
      "outputs": []
    },
    {
      "cell_type": "code",
      "metadata": {
        "id": "t-sYbUkuYmjG"
      },
      "source": [
        "\"\"\"Takes a stock instrument url and returns the ticker symbol associated with the stock.\n",
        "    :param id: A string that represents the stocks instrument url.\n",
        "    :type id: str\n",
        "    :returns:  The symbol.\n",
        "    \"\"\"\n",
        "symbol_for_stock = lambda url: requests.get(url).json()['symbol']"
      ],
      "execution_count": 8,
      "outputs": []
    },
    {
      "cell_type": "code",
      "metadata": {
        "id": "1wywamBSE2q_"
      },
      "source": [
        "# Raw dataset with all filled orders\n",
        "\n",
        "filled_orders = []\n",
        "filled_orders.append(['symbol','latest_price', 'order_type','quantity','unit_price','total_price','fees','timestamp'])\n",
        "# raw = r.orders.get_all_stock_orders()\n",
        "for order in raw:\n",
        "  if order['executions'] != []:\n",
        "    order_details = []\n",
        "    order_details.append(symbol_for_stock(order['instrument']))\n",
        "    try:\n",
        "      price = r.stocks.get_latest_price(symbol_for_stock(order['instrument']), includeExtendedHours=True)[0]\n",
        "    except:\n",
        "      price = '0'\n",
        "    order_details.append(price)\n",
        "    order_details.append(order['side'])\n",
        "    order_details.append(order['cumulative_quantity'])\n",
        "    order_details.append(order['average_price'])\n",
        "    order_details.append(order['executed_notional']['amount'])\n",
        "    order_details.append(order['fees'])\n",
        "    order_details.append(order['updated_at'])\n",
        "    filled_orders.append(order_details)\n",
        "\n",
        "# Converting to dataframe for analysis\n",
        "order_data = pd.DataFrame(filled_orders2[1:], columns=filled_orders2[0])\n",
        "order_data"
      ],
      "execution_count": null,
      "outputs": []
    },
    {
      "cell_type": "code",
      "metadata": {
        "id": "XLXUSlEDdVOO"
      },
      "source": [
        "# Summary Information on all filled orders by Ticker Symbol\n",
        "\n",
        "query = \"WITH summary AS ( \\\n",
        "  SELECT symbol,\\\n",
        "  CAST(SUM(CASE WHEN order_type = 'buy' THEN quantity END) AS FLOAT) as buy_quantity,\\\n",
        "  CAST(SUM(CASE WHEN order_type = 'buy' THEN total_price END)/SUM(CASE WHEN order_type = 'buy' THEN quantity END) AS FLOAT) as avg_buy_price,\\\n",
        "  CAST(SUM(CASE WHEN order_type = 'buy' THEN total_price END) AS FLOAT) as money_out,\\\n",
        "  CAST(SUM(CASE WHEN order_type = 'sell' THEN quantity END) AS FLOAT) as sell_quantity,\\\n",
        "  CAST(SUM(CASE WHEN order_type = 'sell' THEN total_price END)/SUM(CASE WHEN order_type = 'sell' THEN quantity END) AS FLOAT) as avg_sell_price,\\\n",
        "  CAST(SUM(CASE WHEN order_type = 'sell' THEN total_price END) AS FLOAT) as money_in,\\\n",
        "  CAST(MAX(latest_price) AS FLOAT) as latest_price,\\\n",
        "  MAX(timestamp) as last_txn_time \\\n",
        "FROM order_data \\\n",
        "GROUP BY symbol \\\n",
        ") \\\n",
        "SELECT \\\n",
        "  *,\\\n",
        "  CASE WHEN (sell_quantity>=buy_quantity) THEN 'Closed' ELSE 'Open'END AS Position, \\\n",
        "  CASE WHEN (sell_quantity>=buy_quantity) THEN 0 ELSE ((buy_quantity - COALESCE(sell_quantity,0))*avg_buy_price) END AS money_still_invested, \\\n",
        "  CAST(money_in - (sell_quantity*avg_buy_price) AS DECIMAL) AS realized_gains_loss,\\\n",
        "  CASE \\\n",
        "    WHEN buy_quantity != sell_quantity AND sell_quantity IS NOT NULL AND latest_price IS NOT NULL \\\n",
        "      THEN ((buy_quantity-sell_quantity)*latest_price) - ((buy_quantity-sell_quantity)*avg_buy_price) \\\n",
        "    WHEN sell_quantity IS NULL AND latest_price != 'None' \\\n",
        "      THEN (buy_quantity*latest_price) - (buy_quantity*avg_buy_price) \\\n",
        "    WHEN sell_quantity IS NULL AND latest_price IS NULL \\\n",
        "      THEN 0 - (buy_quantity*avg_buy_price) \\\n",
        "    ELSE 0 \\\n",
        "  END AS unrealized_gains_loss \\\n",
        "FROM summary;\"\n",
        "summary_all_orders =  ps.sqldf(query)\n",
        "pd.set_option('display.float_format', lambda x: '%.3f' % x)\n",
        "summary_all_orders"
      ],
      "execution_count": null,
      "outputs": []
    },
    {
      "cell_type": "code",
      "metadata": {
        "id": "FO4qVlu1SLYM"
      },
      "source": [
        "# Push Account Trading History to Google Sheets\n",
        "\n",
        "title = '[Sheet Name]' # E.g., 'Stocks Profit/Loss'\n",
        "\n",
        "# Assuming a spreadsheet with that title already exists\n",
        "sheet = gc.open(title)\n",
        "try:\n",
        "  sheet = gc.open(title).add_worksheet(\"Robinhood_Download\", rows=len(summary_all_orders)+100, cols=len(summary_all_orders.columns)+10)\n",
        "  set_with_dataframe(sheet, summary_all_orders) \n",
        "except:\n",
        "  sheet = gc.open(title).worksheet(\"Robinhood_Download\")\n",
        "  set_with_dataframe(sheet, summary_all_orders)"
      ],
      "execution_count": 28,
      "outputs": []
    },
    {
      "cell_type": "code",
      "metadata": {
        "id": "mrT43jUvp4UI"
      },
      "source": [
        "# Summary Key Results\n",
        "print('Money Invested: ', summary_all_orders['money_out'].sum())\n",
        "print('Money Return: ', summary_all_orders['money_in'].sum())\n",
        "print('Money Still Invested: ', summary_all_orders['money_still_invested'].sum())\n",
        "print('Realized Gain/Loss: ', summary_all_orders['realized_gains_loss'].sum())\n",
        "print('UnRealized Gain/Loss: ', summary_all_orders['unrealized_gains_loss'].sum())\n"
      ],
      "execution_count": null,
      "outputs": []
    },
    {
      "cell_type": "code",
      "metadata": {
        "id": "crz6jiZUdVQ0"
      },
      "source": [
        "# YTD calculation\n",
        "# current_year = \"\\\"\" + str(datetime.now().year) +\"\\\"\"\n",
        "current_year = '\"2020\"'\n",
        "query = \"WITH dataset AS (SELECT A.symbol,\\\n",
        "  A.buy_quantity,\\\n",
        "  A.avg_buy_price,\\\n",
        "  A.money_out,\\\n",
        "  B.sell_quantity,\\\n",
        "  B.avg_sell_price,\\\n",
        "  B.money_in,\\\n",
        "  B.sell_txn_year \\\n",
        "FROM (SELECT symbol,\\\n",
        "    SUM(CASE WHEN order_type = 'buy' THEN quantity END) as buy_quantity,\\\n",
        "    SUM(CASE WHEN order_type = 'buy' THEN total_price END)/SUM(CASE WHEN order_type = 'buy' THEN quantity END) as avg_buy_price,\\\n",
        "    SUM(CASE WHEN order_type = 'buy' THEN total_price END) as money_out \\\n",
        "  FROM order_data WHERE order_type = 'buy' GROUP BY symbol) A \\\n",
        "LEFT JOIN (SELECT symbol,\\\n",
        "    SUM(CASE WHEN order_type = 'sell' THEN quantity END) as sell_quantity,\\\n",
        "    SUM(CASE WHEN order_type = 'sell' THEN total_price END)/SUM(CASE WHEN order_type = 'sell' THEN quantity END) as avg_sell_price,\\\n",
        "    SUM(CASE WHEN order_type = 'sell' THEN total_price END) as money_in,\\\n",
        "    strftime('%Y',timestamp) as sell_txn_year \\\n",
        "  FROM order_data WHERE order_type = 'sell' AND strftime('%Y',timestamp) == {} GROUP BY symbol) B \\\n",
        "ON A.symbol = B.symbol) \\\n",
        "SELECT symbol,\\\n",
        "  (sell_quantity*avg_buy_price) as money_out,\\\n",
        "  money_in,\\\n",
        "  (money_in)-(sell_quantity*avg_buy_price) as realized_gains_loss \\\n",
        "FROM dataset \\\n",
        "WHERE sell_quantity IS NOT NULL \\\n",
        "GROUP BY symbol;\".format(current_year)\n",
        "\n",
        "ytd_data =  ps.sqldf(query)\n",
        "pd.set_option('display.float_format', lambda x: '%.3f' % x)\n",
        "ytd_data"
      ],
      "execution_count": null,
      "outputs": []
    },
    {
      "cell_type": "code",
      "metadata": {
        "id": "D5X9RjygdVTf"
      },
      "source": [
        "# Summary Key Results\n",
        "print('Realized Gain/Loss: ', ytd_data['realized_gains_loss'].sum())"
      ],
      "execution_count": null,
      "outputs": []
    },
    {
      "cell_type": "code",
      "metadata": {
        "id": "3thllZ8ZAMk9"
      },
      "source": [
        "# Push Account Realized History to Google Sheets\n",
        "\n",
        "title = '[Sheet Name]' # E.g., 'Stocks Profit/Loss'\n",
        "\n",
        "# Assuming a spreadsheet with that title already exists\n",
        "sheet = gc.open(title)\n",
        "try:\n",
        "  sheet = gc.open(title).add_worksheet(\"Robinhood_Download_Realized_YTD\", rows=len(ytd_data)+100, cols=len(ytd_data.columns)+10)\n",
        "  set_with_dataframe(sheet, ytd_data) \n",
        "except:\n",
        "  sheet = gc.open(title).worksheet(\"Robinhood_Download_Realized_YTD\")\n",
        "  set_with_dataframe(sheet, ytd_data)"
      ],
      "execution_count": 29,
      "outputs": []
    },
    {
      "cell_type": "code",
      "metadata": {
        "id": "UKSVwOksdVYx"
      },
      "source": [
        "# Next Steps:\n",
        "\n",
        "# 1. Account for stock splits and acquisitions in stock price - i can do this by including another column for current quantity held and multiply that with the latest price\n",
        "# 2. Account for options\n",
        "# 3. Account for repurchase of same stock at a later date - \n",
        "# 3.1 buy and sold all stake, and then buy again: sort by ticker symbol and txn date. keep doing average price if leading row is also buy, else complete the row and start a new one. For sell, do average price if only one buy row, or do average price for units up the next buy row. Update txn date to coalesce(last sales date, last buy date) for each row\n",
        "# 4. Tag investments by category (long terms - growth stocks, etf, short term - gambling money) to identify future investment split\n",
        "# 5. Account for fees\n",
        "# 6. Add other accounts (schwab)\n",
        "# 7. Add UI layer"
      ],
      "execution_count": null,
      "outputs": []
    }
  ]
}